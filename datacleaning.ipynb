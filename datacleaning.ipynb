{
 "cells": [
  {
   "cell_type": "code",
   "execution_count": 1,
   "metadata": {},
   "outputs": [],
   "source": [
    "import pandas as pd\n",
    "import matplotlib.pyplot as plt\n",
    "import dask.dataframe as dd"
   ]
  },
  {
   "cell_type": "code",
   "execution_count": 55,
   "metadata": {},
   "outputs": [
    {
     "name": "stdout",
     "output_type": "stream",
     "text": [
      "          price  size           time  snapshot   level\n",
      "0        167.40   185  1740344668403         0     1.0\n",
      "1        167.39   312  1740344668403         0     2.0\n",
      "2        167.38   774  1740344668403         0     3.0\n",
      "3        167.37  1060  1740344668403         0     4.0\n",
      "4        167.36  1029  1740344668403         0     5.0\n",
      "...         ...   ...            ...       ...     ...\n",
      "1024287  158.08     7  1740344668403        10  1000.0\n",
      "1024288   83.72     0  1740344668753        10  1004.0\n",
      "1024289  133.93     0  1740344668651        10  1001.0\n",
      "1024290  100.44     0  1740344668868        10  1003.0\n",
      "1024291  133.92     0  1740344669178        10  1002.0\n",
      "\n",
      "[1024292 rows x 5 columns]\n"
     ]
    }
   ],
   "source": [
    "df = pd.read_parquet(\"/Users/hanifadelekan/dev/Trading/bid_order_book.parquet\")\n",
    "df.reset_index(inplace=True)\n",
    "\n",
    "#df.set_index(['snapshot','price'], inplace=True)\n",
    "\n",
    "df['price'] = pd.to_numeric(df['price'], errors='coerce')\n",
    "df['size'] = pd.to_numeric(df['size'], errors='coerce')\n",
    "df['price'] = df['price'].astype(float)\n",
    "#df_grouped = df.groupby('snapshot')\n",
    "\n",
    "df['level'] = df.groupby('snapshot')['price'].transform(lambda x: x.rank(ascending=False, method='dense'))\n",
    "\n",
    "'''df['psum'] = df['price'] * df['size']\n",
    "z = df.groupby('snapshot')\n",
    "#z['psum'].sum()\n",
    "\n",
    "z.get_group(0)'''\n",
    "#z = df.groupby('price')\n",
    "\n",
    "\n",
    "for group in z:\n",
    "    #print('name: ',group[0],'\\n','length: ',len(group[1]),'\\n','standard deviation: ',group[1]['size'].std()) #find spoofing with decision tree random forest or logistic regression\n",
    "    #print(group)\n",
    "    pass\n",
    "\n",
    "'''for group in z:\n",
    "    #group[1]['level'] = group[1]['price'].rank(ascending=False)\n",
    "  \n",
    "    if group[1]['size'].std() > 100:\n",
    "        plt.plot(group[1]['snapshot'],group[1]['size'])\n",
    "plt.ylabel('size')\n",
    "plt.show()'''\n",
    "print(df)"
   ]
  },
  {
   "cell_type": "markdown",
   "metadata": {},
   "source": []
  }
 ],
 "metadata": {
  "kernelspec": {
   "display_name": "base",
   "language": "python",
   "name": "python3"
  },
  "language_info": {
   "codemirror_mode": {
    "name": "ipython",
    "version": 3
   },
   "file_extension": ".py",
   "mimetype": "text/x-python",
   "name": "python",
   "nbconvert_exporter": "python",
   "pygments_lexer": "ipython3",
   "version": "3.11.7"
  }
 },
 "nbformat": 4,
 "nbformat_minor": 2
}
